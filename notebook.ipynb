{
 "cells": [
  {
   "cell_type": "code",
   "execution_count": 2,
   "metadata": {},
   "outputs": [],
   "source": [
    "# Importing Libraries\n",
    "import networkx as nx\n",
    "import matplotlib.pyplot as plt\n",
    "import random\n",
    "import pickle\n",
    "import pandas as pd"
   ]
  },
  {
   "cell_type": "code",
   "execution_count": 3,
   "metadata": {},
   "outputs": [],
   "source": [
    "# Getting one network\n",
    "network = pickle.load(open('networks/graph_spa_500_9.pickle','rb'))"
   ]
  },
  {
   "cell_type": "code",
   "execution_count": 4,
   "metadata": {},
   "outputs": [],
   "source": [
    "# Make remove any directed graph undirected\n",
    "def remove_direction(directed_graph):\n",
    "    undirected_graph = nx.Graph()\n",
    "    undirected_graph.add_nodes_from(directed_graph.nodes())\n",
    "    for u,v in directed_graph.edges():\n",
    "            undirected_graph.add_edge(u,v)\n",
    "    return undirected_graph"
   ]
  },
  {
   "cell_type": "code",
   "execution_count": 5,
   "metadata": {},
   "outputs": [],
   "source": [
    "# This is the function I in the paper\n",
    "def Coverage(graph, set_of_nodes):\n",
    "    nodes_covered = set()\n",
    "    x = len(set_of_nodes)\n",
    "    if x == 0:\n",
    "        return 0\n",
    "    else:\n",
    "        for item in set_of_nodes:\n",
    "            node_coverage = nx.node_connected_component(graph, item)\n",
    "            nodes_covered = nodes_covered |node_coverage\n",
    "        coverage = len(nodes_covered)\n",
    "    return coverage"
   ]
  },
  {
   "cell_type": "code",
   "execution_count": 6,
   "metadata": {},
   "outputs": [],
   "source": [
    "# Make our network undirected\n",
    "undi_net = remove_direction(network)\n",
    "nodes = {1, 34, 59, 1}\n",
    "Coverage(undi_net, nodes)\n",
    "\n",
    "blacks = nx.Graph()\n",
    "whites = nx.Graph()\n",
    "latinos = nx.Graph()\n",
    "asians = nx.Graph()\n",
    "others = nx.Graph()\n",
    "for v in network.nodes():\n",
    "    if network.nodes[v]['ethnicity'] == 'black':\n",
    "        blacks.add_node(v)\n",
    "    if network.nodes[v]['ethnicity'] == 'white':\n",
    "        whites.add_node(v)\n",
    "    if network.nodes[v]['ethnicity'] == 'latino':\n",
    "        latinos.add_node(v)\n",
    "    if network.nodes[v]['ethnicity'] == 'other':\n",
    "        others.add_node(v)\n",
    "    if network.nodes[v]['ethnicity'] == 'asian':\n",
    "        asians.add_node(v)"
   ]
  },
  {
   "cell_type": "code",
   "execution_count": 7,
   "metadata": {},
   "outputs": [
    {
     "name": "stdout",
     "output_type": "stream",
     "text": [
      "[13, 28, 90, 115, 116, 119, 133, 171, 205, 269, 277, 288, 306, 377, 395]\n"
     ]
    }
   ],
   "source": [
    "# Continuous Greedy\n",
    "print(asians.nodes)"
   ]
  },
  {
   "cell_type": "code",
   "execution_count": 8,
   "metadata": {},
   "outputs": [],
   "source": [
    "black_net = network.subgraph(blacks.nodes)\n",
    "whites_net = network.subgraph(whites.nodes)\n",
    "latinos_net = network.subgraph(latinos.nodes)\n",
    "asians_net = network.subgraph(asians.nodes)\n",
    "others_net = network.subgraph(others.nodes)"
   ]
  },
  {
   "cell_type": "code",
   "execution_count": 9,
   "metadata": {},
   "outputs": [],
   "source": [
    "def get_nodes(graph):\n",
    "    y = []\n",
    "    for i in range(len(graph.nodes)):\n",
    "        y.append(i)\n",
    "    return y"
   ]
  },
  {
   "cell_type": "code",
   "execution_count": 10,
   "metadata": {},
   "outputs": [],
   "source": [
    "# # Getting the subset of solution that meet the cardinality constraint\n",
    "\n",
    "# F = []\n",
    "\n",
    "# def get_feasible_solutions(graph, card_constraint):\n",
    "#     F = {}\n",
    "#     set_of_nodes = set()\n",
    "#     for i in network.nodes:\n",
    "#         set_of_nodes.add(i)\n",
    "\n",
    "#     # Create the sets that satisfy the solution set\n",
    "#     l = 1\n",
    "#     while l <= card_constraint:\n",
    "#         for item in set_of_nodes:\n",
    "#             A = {}.add(item)\n",
    "#             F.append(A)"
   ]
  },
  {
   "cell_type": "code",
   "execution_count": 11,
   "metadata": {},
   "outputs": [],
   "source": [
    "F = []\n",
    "# A = set()\n",
    "set_of_nodes = set()\n",
    "for i in get_nodes(network):\n",
    "    set_of_nodes.add(i)\n",
    "\n",
    "for item in get_nodes(network):\n",
    "    A = set()\n",
    "    A.add(item)\n",
    "    F.append(A)"
   ]
  },
  {
   "cell_type": "code",
   "execution_count": 12,
   "metadata": {},
   "outputs": [],
   "source": [
    "L2 = []\n",
    "for item in F:\n",
    "    for Set in F:\n",
    "        X = item | Set\n",
    "        L2.append(X)"
   ]
  },
  {
   "cell_type": "code",
   "execution_count": 13,
   "metadata": {},
   "outputs": [],
   "source": [
    "# I need to eliminate any item that does not have the size of the previous iteration to reduce te\n",
    "for item in L2:\n",
    "    if len(item) < 2:\n",
    "        L2.pop(L2.index(item))\n",
    "L3 = []\n",
    "for item in F:\n",
    "    for Set in L2:\n",
    "        X = item | Set\n",
    "        L3.append(X)"
   ]
  },
  {
   "cell_type": "code",
   "execution_count": 14,
   "metadata": {},
   "outputs": [],
   "source": [
    "W = []\n",
    "W = F\n",
    "for item in F:\n",
    "    if item in L2:\n",
    "        continue\n",
    "    else:\n",
    "        W.append(item)"
   ]
  }
 ],
 "metadata": {
  "kernelspec": {
   "display_name": "Python 3.9.4 64-bit",
   "language": "python",
   "name": "python3"
  },
  "language_info": {
   "codemirror_mode": {
    "name": "ipython",
    "version": 3
   },
   "file_extension": ".py",
   "mimetype": "text/x-python",
   "name": "python",
   "nbconvert_exporter": "python",
   "pygments_lexer": "ipython3",
   "version": "3.9.4"
  },
  "orig_nbformat": 4,
  "vscode": {
   "interpreter": {
    "hash": "11938c6bc6919ae2720b4d5011047913343b08a43b18698fd82dedb0d4417594"
   }
  }
 },
 "nbformat": 4,
 "nbformat_minor": 2
}
